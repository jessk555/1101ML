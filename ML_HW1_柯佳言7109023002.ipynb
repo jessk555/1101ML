{
 "cells": [
  {
   "cell_type": "code",
   "execution_count": 1,
   "metadata": {},
   "outputs": [],
   "source": [
    "#Problem 01:Construct a list which contains all the even numbers less than 100"
   ]
  },
  {
   "cell_type": "code",
   "execution_count": 2,
   "metadata": {},
   "outputs": [
    {
     "name": "stdout",
     "output_type": "stream",
     "text": [
      "[0, 2, 4, 6, 8, 10, 12, 14, 16, 18, 20, 22, 24, 26, 28, 30, 32, 34, 36, 38, 40, 42, 44, 46, 48, 50, 52, 54, 56, 58, 60, 62, 64, 66, 68, 70, 72, 74, 76, 78, 80, 82, 84, 86, 88, 90, 92, 94, 96, 98]\n"
     ]
    }
   ],
   "source": [
    "my_list=list(range(0, 100,2))\n",
    "print(my_list)"
   ]
  },
  {
   "cell_type": "code",
   "execution_count": 3,
   "metadata": {},
   "outputs": [
    {
     "data": {
      "text/plain": [
       "list"
      ]
     },
     "execution_count": 3,
     "metadata": {},
     "output_type": "execute_result"
    }
   ],
   "source": [
    "type(my_list)"
   ]
  },
  {
   "cell_type": "code",
   "execution_count": 4,
   "metadata": {},
   "outputs": [
    {
     "name": "stdout",
     "output_type": "stream",
     "text": [
      "(0, 2, 4, 6, 8, 10, 12, 14, 16, 18, 20, 22, 24, 26, 28, 30, 32, 34, 36, 38, 40, 42, 44, 46, 48, 50, 52, 54, 56, 58, 60, 62, 64, 66, 68, 70, 72, 74, 76, 78, 80, 82, 84, 86, 88, 90, 92, 94, 96, 98)\n"
     ]
    }
   ],
   "source": [
    "#Problem 02:Construct a tuple which contains all the odd numbers less than 100\n",
    "my_tuple=tuple(range(0, 100,2))\n",
    "print(my_tuple)"
   ]
  },
  {
   "cell_type": "code",
   "execution_count": 5,
   "metadata": {},
   "outputs": [
    {
     "data": {
      "text/plain": [
       "tuple"
      ]
     },
     "execution_count": 5,
     "metadata": {},
     "output_type": "execute_result"
    }
   ],
   "source": [
    "type(my_tuple)"
   ]
  },
  {
   "cell_type": "code",
   "execution_count": 6,
   "metadata": {},
   "outputs": [
    {
     "name": "stdout",
     "output_type": "stream",
     "text": [
      "Python\n"
     ]
    }
   ],
   "source": [
    "#Problem 03\n",
    "#a. Declare a string-type variable, My_string, whose value is Python\n",
    "My_string='Python'\n",
    "print(My_string)"
   ]
  },
  {
   "cell_type": "code",
   "execution_count": 7,
   "metadata": {},
   "outputs": [
    {
     "data": {
      "text/plain": [
       "'PythonPythonPython'"
      ]
     },
     "execution_count": 7,
     "metadata": {},
     "output_type": "execute_result"
    }
   ],
   "source": [
    "#b. Use My_string to make a variable whose value is PythonPythonPython\n",
    "My_string*3"
   ]
  },
  {
   "cell_type": "code",
   "execution_count": 8,
   "metadata": {},
   "outputs": [
    {
     "name": "stdout",
     "output_type": "stream",
     "text": [
      "['P', 'y', 't', 'h', 'o', 'n']\n"
     ]
    }
   ],
   "source": [
    "#c. Use My_string to create a list equal to [‘P’, ’y’, ‘t’, ‘h’, ‘o’, ’n’]\n",
    "My_string=list('Python')\n",
    "print(My_string[0:6])"
   ]
  },
  {
   "cell_type": "code",
   "execution_count": 9,
   "metadata": {},
   "outputs": [
    {
     "name": "stdout",
     "output_type": "stream",
     "text": [
      "{'John': [51, 'M'], 'Mary': [28, 'F'], 'Joe': [33, 'N'], 'Helen': [37, 'F']}\n"
     ]
    }
   ],
   "source": [
    "#Problem 04: Construct a dictionary based on the following table\n",
    "my_dict={'John':[51,'M'],\n",
    "         'Mary':[28,'F'],\n",
    "         'Joe':[33,'N'],\n",
    "         'Helen':[37,'F']}\n",
    "print(my_dict)"
   ]
  },
  {
   "cell_type": "code",
   "execution_count": 10,
   "metadata": {},
   "outputs": [
    {
     "name": "stdout",
     "output_type": "stream",
     "text": [
      "{'John': [51, 'M'], 'Mary': [28, 'F'], 'Joe': [33, 'N'], 'Helen': [37, 'F'], 'Peter': [66, 'M']}\n"
     ]
    }
   ],
   "source": [
    "#Add the following data to this dictionary\n",
    "my_dict['Peter'] = [66,'M']\n",
    "print(my_dict)"
   ]
  },
  {
   "cell_type": "code",
   "execution_count": 11,
   "metadata": {},
   "outputs": [
    {
     "name": "stdout",
     "output_type": "stream",
     "text": [
      "{'John': [51, 'M'], 'Joe': [33, 'N'], 'Helen': [37, 'F'], 'Peter': [66, 'M']}\n"
     ]
    }
   ],
   "source": [
    "#Remove the data related to ‘Mary’ from this dictionary\n",
    "del my_dict['Mary']\n",
    "print(my_dict)"
   ]
  },
  {
   "cell_type": "code",
   "execution_count": 12,
   "metadata": {},
   "outputs": [
    {
     "name": "stdout",
     "output_type": "stream",
     "text": [
      "555\n",
      "555\n"
     ]
    }
   ],
   "source": [
    "#Problem 05: \n",
    "# Use the function ‘input’ to input these stock prices and store them in a list\n",
    "# Use the methods of list or functions to calculate the average of them\n",
    "stockprices = input()\n",
    "SP = list(stockprices)\n",
    "SP.append(stockprices)\n",
    "print(SP[-1])"
   ]
  },
  {
   "cell_type": "code",
   "execution_count": 13,
   "metadata": {},
   "outputs": [
    {
     "name": "stdout",
     "output_type": "stream",
     "text": [
      "12\n",
      "成績 12 分 等第 不及格\n"
     ]
    }
   ],
   "source": [
    "#Problem 06\n",
    "#利用‘ input’ 輸入成績,藉由‘if’ 判斷式來判斷等第, 利用‘print’ 來輸出, 輸出範例：成績XX分，等第為X\n",
    "a=eval(input())\n",
    "if a>=90:\n",
    "       print(\"成績\",a,\"分\",\"等第\",\"優等\")\n",
    "elif  90>a>=80:\n",
    "       print(\"成績\",a,\"分\",\"等第\",\"甲等\")\n",
    "elif 80>a>=70:\n",
    "       print(\"成績\",a,\"分\",\"等第\",\"乙等\")\n",
    "elif 70>a>=60:\n",
    "       print(\"成績\",a,\"分\",\"等第\",\"丙等\")\n",
    "elif a<60:\n",
    "\n",
    "       print(\"成績\",a,\"分\",\"等第\",\"不及格\")"
   ]
  },
  {
   "cell_type": "code",
   "execution_count": 20,
   "metadata": {},
   "outputs": [
    {
     "name": "stdout",
     "output_type": "stream",
     "text": [
      "請輸入正整數12\n",
      "顯示結果:2  7  12  "
     ]
    }
   ],
   "source": [
    "#Problem 07\n",
    "#Use while loop to create a list whose element mod 5 is 2 取餘數\n",
    "count = 0\n",
    "inputs = int(input(\"請輸入正整數\"))\n",
    "print('顯示結果:', end='')\n",
    "while True:\n",
    "    if count % 5 == 2 and count > 1:\n",
    "        print(count, ' ', end='')\n",
    "    if count == inputs:\n",
    "        break\n",
    "    count += 1"
   ]
  },
  {
   "cell_type": "code",
   "execution_count": 21,
   "metadata": {},
   "outputs": [
    {
     "name": "stdout",
     "output_type": "stream",
     "text": [
      "請輸入正整數33\n",
      "顯示結果:2  9  16  23  30  "
     ]
    }
   ],
   "source": [
    "#Use while loop to create a list whose element mod 7 is 2\n",
    "count = 0\n",
    "inputs = int(input(\"請輸入正整數\"))\n",
    "print('顯示結果:', end='')\n",
    "while True:\n",
    "    if count % 7 == 2 and count > 1:\n",
    "        print(count, ' ', end='')\n",
    "    if count == inputs:\n",
    "        break\n",
    "    count += 1"
   ]
  },
  {
   "cell_type": "code",
   "execution_count": 23,
   "metadata": {
    "scrolled": true
   },
   "outputs": [
    {
     "name": "stdout",
     "output_type": "stream",
     "text": [
      "請輸入數字: 12\n",
      "12 不是質數\n"
     ]
    }
   ],
   "source": [
    "#Problem 08\n",
    "#Use while loop to check if a number is a prime number\n",
    "my_prime = int(input(\"請輸入數字: \"))\n",
    " \n",
    "# 質數大於 1\n",
    "if my_prime > 1:\n",
    "    for i in range(2,my_prime):\n",
    "        if (my_prime % i) == 0:\n",
    "            print(my_prime,\"不是質數\")\n",
    "            break\n",
    "        else:\n",
    "            print(my_prime,\"是質數\")\n",
    "else:\n",
    "    print(my_prime,\"不是質數\")"
   ]
  },
  {
   "cell_type": "code",
   "execution_count": null,
   "metadata": {},
   "outputs": [],
   "source": []
  }
 ],
 "metadata": {
  "kernelspec": {
   "display_name": "Python 3",
   "language": "python",
   "name": "python3"
  },
  "language_info": {
   "codemirror_mode": {
    "name": "ipython",
    "version": 3
   },
   "file_extension": ".py",
   "mimetype": "text/x-python",
   "name": "python",
   "nbconvert_exporter": "python",
   "pygments_lexer": "ipython3",
   "version": "3.8.5"
  }
 },
 "nbformat": 4,
 "nbformat_minor": 4
}

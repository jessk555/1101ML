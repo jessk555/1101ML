{
 "cells": [
  {
   "cell_type": "code",
   "execution_count": 1,
   "metadata": {},
   "outputs": [
    {
     "name": "stdout",
     "output_type": "stream",
     "text": [
      "1x1=1 1x2=2 1x3=3 1x4=4 1x5=5 1x6=6 1x7=7 1x8=8 1x9=9 \n",
      "2x1=2 2x2=4 2x3=6 2x4=8 2x5=10 2x6=12 2x7=14 2x8=16 2x9=18 \n",
      "3x1=3 3x2=6 3x3=9 3x4=12 3x5=15 3x6=18 3x7=21 3x8=24 3x9=27 \n",
      "4x1=4 4x2=8 4x3=12 4x4=16 4x5=20 4x6=24 4x7=28 4x8=32 4x9=36 \n",
      "5x1=5 5x2=10 5x3=15 5x4=20 5x5=25 5x6=30 5x7=35 5x8=40 5x9=45 \n",
      "6x1=6 6x2=12 6x3=18 6x4=24 6x5=30 6x6=36 6x7=42 6x8=48 6x9=54 \n",
      "7x1=7 7x2=14 7x3=21 7x4=28 7x5=35 7x6=42 7x7=49 7x8=56 7x9=63 \n",
      "8x1=8 8x2=16 8x3=24 8x4=32 8x5=40 8x6=48 8x7=56 8x8=64 8x9=72 \n",
      "9x1=9 9x2=18 9x3=27 9x4=36 9x5=45 9x6=54 9x7=63 9x8=72 9x9=81 \n"
     ]
    }
   ],
   "source": [
    "#Problem 01\n",
    "#Use the for loop to print out the multiplication tables\n",
    "for i in range(1, 10):\n",
    "    for j in range(1, 10):\n",
    "        print(str(i) + 'x' + str(j) + '=' + str(i * j) + ' ', end='')\n",
    "    print()  "
   ]
  },
  {
   "cell_type": "code",
   "execution_count": 6,
   "metadata": {},
   "outputs": [
    {
     "name": "stdout",
     "output_type": "stream",
     "text": [
      "please enter the Celsius55\n",
      "Fahrenheit is 131.0 \n"
     ]
    }
   ],
   "source": [
    "#Problem 02\n",
    "#Design a function to either convert Celsius to Fahrenheit or the other way around\n",
    "#Requirement: the default of this function is to convert Celsius to Fahrenheit\n",
    "#print out the result in the function\n",
    "def CTOF():\n",
    "    InputC=float(input(\"please enter the Celsius\"))\n",
    "    F= InputC * (9/5) + 32\n",
    "    print (\"Fahrenheit is %5.1f \"%F)\n",
    "CTOF()"
   ]
  },
  {
   "cell_type": "code",
   "execution_count": 59,
   "metadata": {},
   "outputs": [
    {
     "name": "stdout",
     "output_type": "stream",
     "text": [
      "please input the number4\n",
      "[0, 1, 1, 2]\n"
     ]
    }
   ],
   "source": [
    "#Problem 03\n",
    "#Design a function to product a Fibonacci series\n",
    "#Requirement:the input of this function is the length of the produced Fibonacci series\n",
    "#the function returns the result\n",
    "#print out the returned sequence\n",
    "fibs = [0,1]\n",
    "num = int(input(\"please input the number\"))\n",
    "for i in range(num-2):\n",
    "    fibs.append(fibs[-2]+fibs[-1])\n",
    "print(fibs)"
   ]
  },
  {
   "cell_type": "code",
   "execution_count": 62,
   "metadata": {},
   "outputs": [
    {
     "name": "stdout",
     "output_type": "stream",
     "text": [
      "please input the strings aasd\n",
      "please input the strings bqwe\n",
      "please input the strings czxc\n",
      "asd-qwe-zxc\n"
     ]
    }
   ],
   "source": [
    "#Problem 04\n",
    "#Design a function to join two strings with another string\n",
    "#For example: we have two strings: “abc” and “def”. We join them by\n",
    "#string “-123-”. The resulting string is “abc-123-def”\n",
    "#Requirement:\n",
    "#the function has three strings as input parameters\n",
    "#if the string to join the two strings is not specified, the default is to use “-” to join two strings\n",
    "#do not use the python build-in functions or methods to join the strings\n",
    "#return the result in the function\n",
    "a = (input(\"please input the strings a\"))\n",
    "b = (input(\"please input the strings b\"))\n",
    "c = (input(\"please input the strings c\"))\n",
    "s = a + \"-\" + b + \"-\" + c \n",
    "print(s)"
   ]
  },
  {
   "cell_type": "code",
   "execution_count": 70,
   "metadata": {},
   "outputs": [
    {
     "name": "stdout",
     "output_type": "stream",
     "text": [
      "Enter somethingrty\n",
      "3\n"
     ]
    }
   ],
   "source": [
    "#Problem 05\n",
    "#Design a function to calculate the length of a data structure such as list,tuple, set, string and dict\n",
    "def calculate():\n",
    "    string = input(\"Enter something\")\n",
    "    n = len(string)\n",
    "    print(n)\n",
    "calculate()"
   ]
  },
  {
   "cell_type": "code",
   "execution_count": 73,
   "metadata": {},
   "outputs": [
    {
     "name": "stdout",
     "output_type": "stream",
     "text": [
      "[4, 5, 6, 7, 8, 9]\n"
     ]
    }
   ],
   "source": [
    "#Problem 06\n",
    "#Design a function to sort a series of numbers\n",
    "#Requirement:the function take a list of number as input and return sorted listed\n",
    "num = [5, 7, 4, 6, 9, 8]\n",
    "num.sort()\n",
    "print(num)"
   ]
  },
  {
   "cell_type": "code",
   "execution_count": 89,
   "metadata": {},
   "outputs": [
    {
     "name": "stdout",
     "output_type": "stream",
     "text": [
      "dict_keys(['key1', 'key2', 'key3'])\n"
     ]
    }
   ],
   "source": [
    "#Problem 07\n",
    "#Design a function to return the keys and values of a dict object\n",
    "#Requirement:the function takes a dict object as the input\n",
    "#the function returns\n",
    "#a list of keys of this dict object\n",
    "#a list of values of this dict object\n",
    "dict = {'key1': 1, 'key2': 2, 'key3': 3}\n",
    "def mydict():\n",
    "    keys = dict.keys()\n",
    "    print(keys)\n",
    "mydict()"
   ]
  },
  {
   "cell_type": "code",
   "execution_count": 95,
   "metadata": {},
   "outputs": [
    {
     "name": "stdout",
     "output_type": "stream",
     "text": [
      "dict_values([1, 2, 3])\n"
     ]
    }
   ],
   "source": [
    "#a list of values of this dict object\n",
    "dict = {'key1': 1, 'key2': 2, 'key3': 3}\n",
    "def myvalue():\n",
    "    values = dict.values()\n",
    "    print(values)\n",
    "myvalue()"
   ]
  },
  {
   "cell_type": "code",
   "execution_count": 96,
   "metadata": {},
   "outputs": [],
   "source": [
    "#Problem 08 \n",
    "#Design a function to act like range. Say the function name is ‘my_range’\n",
    "#my_range(10) will return a list of 0,1,2,3,4,5,6,7,8,9\n",
    "#my_range(1,10) will return a list of 1,2,3,4,5,6,7,8,9\n",
    "#my_range(10,1,-2) will return a list of 10, 8, 6, 4, 2"
   ]
  },
  {
   "cell_type": "code",
   "execution_count": 100,
   "metadata": {},
   "outputs": [
    {
     "name": "stdout",
     "output_type": "stream",
     "text": [
      "15 14 13 12 11 10 9 8 7 6 "
     ]
    }
   ],
   "source": [
    "def my_range():\n",
    "    for i in range(15, 5, -1):\n",
    "        print(i, end =\" \")\n",
    "my_range()"
   ]
  },
  {
   "cell_type": "code",
   "execution_count": null,
   "metadata": {},
   "outputs": [],
   "source": [
    "#Problem 09\n",
    "#We have a user profile indicating username and the password; userinfo = {‘John’:’1234’, ‘Mary’: ‘5678’}\n",
    "#Please write a login system with the following requirements\n",
    "userinfo = {‘John’:’1234’, ‘Mary’: ‘5678’}\n",
    "username = (input(\"please input your name\"))\n",
    "password = (input(\"please input the password\"))"
   ]
  }
 ],
 "metadata": {
  "kernelspec": {
   "display_name": "Python 3",
   "language": "python",
   "name": "python3"
  },
  "language_info": {
   "codemirror_mode": {
    "name": "ipython",
    "version": 3
   },
   "file_extension": ".py",
   "mimetype": "text/x-python",
   "name": "python",
   "nbconvert_exporter": "python",
   "pygments_lexer": "ipython3",
   "version": "3.8.5"
  }
 },
 "nbformat": 4,
 "nbformat_minor": 4
}
